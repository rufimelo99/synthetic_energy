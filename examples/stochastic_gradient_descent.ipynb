{
 "cells": [
  {
   "cell_type": "markdown",
   "metadata": {},
   "source": [
    "# SGD-Differential Privacy"
   ]
  },
  {
   "cell_type": "markdown",
   "metadata": {},
   "source": [
    "Simple case study. We have a csv file with wind turbine data."
   ]
  },
  {
   "cell_type": "markdown",
   "metadata": {},
   "source": [
    "# Installation"
   ]
  },
  {
   "cell_type": "code",
   "execution_count": null,
   "metadata": {},
   "outputs": [],
   "source": [
    "!pip install xgboost matplotlib torch scikit-learn ipykernel pandas tqdm\n",
    "# !pip install --pre torchcsprng -f https://download.pytorch.org/whl/nightly/cpu/torch_nightly.html"
   ]
  },
  {
   "cell_type": "markdown",
   "metadata": {},
   "source": [
    "# Loading Data"
   ]
  },
  {
   "cell_type": "code",
   "execution_count": 2,
   "metadata": {},
   "outputs": [],
   "source": [
    "import pandas as pd\n",
    "from matplotlib import pyplot as plt\n",
    "\n",
    "from xgboost import XGBClassifier\n",
    "from sklearn.model_selection import train_test_split"
   ]
  },
  {
   "cell_type": "code",
   "execution_count": null,
   "metadata": {},
   "outputs": [],
   "source": [
    "power_data = pd.read_csv(\"artifacts/power_cleaned_data.csv\")\n",
    "\n",
    "bin_edges = range(0, int(power_data[\"Patv\"].max()) + 100, 100)\n",
    "\n",
    "# Bin the Patv column\n",
    "power_data[\"Patv\"] = pd.cut(\n",
    "    power_data[\"Patv\"], bins=bin_edges, labels=False, right=False\n",
    ")\n",
    "\n",
    "power_data.head()"
   ]
  },
  {
   "cell_type": "code",
   "execution_count": null,
   "metadata": {},
   "outputs": [],
   "source": [
    "class DataCleaner:\n",
    "    def __init__(self, data):\n",
    "        self.data = data\n",
    "\n",
    "    def clean_data(self):\n",
    "        # Apply all abnormal conditions to filter out invalid data\n",
    "        conditions = [\n",
    "            self.data[\"Patv\"] < 0,\n",
    "            (self.data[\"Wspd\"] < 1) & (self.data[\"Patv\"] > 10),\n",
    "            (self.data[\"Wspd\"] < 2) & (self.data[\"Patv\"] > 100),\n",
    "            (self.data[\"Wspd\"] < 3) & (self.data[\"Patv\"] > 200),\n",
    "            (self.data[\"Wspd\"] > 2.5) & (self.data[\"Patv\"] == 0),\n",
    "            (self.data[\"Wspd\"] == 0)\n",
    "            & (self.data[\"Wdir\"] == 0)\n",
    "            & (self.data[\"Etmp\"] == 0),\n",
    "            self.data[\"Etmp\"] < -21,\n",
    "            self.data[\"Itmp\"] < -21,\n",
    "            self.data[\"Etmp\"] > 60,\n",
    "            self.data[\"Itmp\"] > 70,\n",
    "            (self.data[\"Wdir\"] > 180) | (self.data[\"Wdir\"] < -180),\n",
    "            (self.data[\"Ndir\"] > 720) | (self.data[\"Ndir\"] < -720),\n",
    "            (self.data[\"Pab1\"] > 89)\n",
    "            | (self.data[\"Pab2\"] > 89)\n",
    "            | (self.data[\"Pab3\"] > 89),\n",
    "        ]\n",
    "\n",
    "        self.data[\"Patv\"] = self.data[\"Patv\"].astype(int)\n",
    "\n",
    "        # Combine all conditions with OR operator\n",
    "        combined_condition = conditions[0]\n",
    "        for condition in conditions[1:]:\n",
    "            combined_condition |= condition\n",
    "\n",
    "        # Filter out rows that meet any of the abnormal conditions\n",
    "        self.data = self.data[~combined_condition]\n",
    "\n",
    "        self.data = self.data.dropna()\n",
    "        return self.data\n",
    "\n",
    "\n",
    "# Create an instance of the DataCleaner class and clean the data\n",
    "cleaner = DataCleaner(power_data)\n",
    "cleaned_data = cleaner.clean_data()\n",
    "\n",
    "\n",
    "# Display the first few rows of the cleaned dataframe to verify the data is cleaned correctly\n",
    "cleaned_data.head()\n",
    "\n",
    "train, test = train_test_split(cleaned_data, test_size=0.5, random_state=42)\n",
    "train"
   ]
  },
  {
   "cell_type": "code",
   "execution_count": null,
   "metadata": {},
   "outputs": [],
   "source": [
    "# encode Tmstamp column to numeric values\n",
    "train[\"Tmstamp\"] = pd.to_datetime(train[\"Tmstamp\"]).astype(int) // 10**9\n",
    "test[\"Tmstamp\"] = pd.to_datetime(test[\"Tmstamp\"]).astype(int) // 10**9"
   ]
  },
  {
   "cell_type": "markdown",
   "metadata": {},
   "source": [
    "## Train Classifier"
   ]
  },
  {
   "cell_type": "code",
   "execution_count": null,
   "metadata": {},
   "outputs": [],
   "source": [
    "import torch\n",
    "import torch.nn as nn\n",
    "\n",
    "class Net(nn.Module):\n",
    "    def __init__(self):\n",
    "        super(Net, self).__init__()\n",
    "        self.fc1 = nn.Linear(12, 10)\n",
    "        self.fc2 = nn.Linear(10, 1)\n",
    "\n",
    "    def forward(self, x):\n",
    "        x = torch.relu(self.fc1(x))\n",
    "        x = self.fc2(x)\n",
    "        return x\n",
    "    \n",
    "net = Net()\n",
    "\n",
    "x_train = torch.tensor(train.drop(columns=[\"Patv\"]).values).float()\n",
    "# make y values 0 and 1s\n",
    "y_values = [1 if y > 0 else 0 for y in train[\"Patv\"].values]\n",
    "y_values = [[y] for y in y_values]\n",
    "y_train = torch.tensor(y_values).float()\n",
    "print(y_train.shape)\n",
    "train_dataloader = torch.utils.data.DataLoader(\n",
    "    list(zip(x_train, y_train)), batch_size=64, shuffle=True\n",
    ")\n",
    "optimizer = torch.optim.Adam(net.parameters(), lr=0.01)\n"
   ]
  },
  {
   "cell_type": "code",
   "execution_count": null,
   "metadata": {},
   "outputs": [],
   "source": [
    "# train with differentially privacy\n",
    "from tqdm import tqdm, auto\n",
    "for epoch in auto.trange(100):\n",
    "    for x_batch, y_batch in train_dataloader:\n",
    "        optimizer.zero_grad()\n",
    "        output = net(x_batch)\n",
    "        # for classification, we use cross entropy loss\n",
    "        if len(output.shape) == 1:\n",
    "            output = output.unsqueeze(1)\n",
    "\n",
    "        loss = nn.functional.cross_entropy(output, y_batch)\n",
    "        loss.backward()\n",
    "\n",
    "        for param in net.parameters():\n",
    "            param.grad += torch.normal(0, 0.1, param.grad.shape)\n",
    "            # Clip each parameter's per-sample gradient\n",
    "            param.grad /= len(x_batch)\n",
    "            param.grad = torch.clamp(param.grad, -0.1, 0.1)\n",
    "\n",
    "\n",
    "        # Introduce some noise for SGD-DP\n",
    "        noise_multiplier = 0.1\n",
    "        l2_norm_clip = 1.0\n",
    "        batch_size = 64\n",
    "        delta = 1e-5\n",
    "        max_grad_norm = 0.1\n",
    "        sigma = noise_multiplier * l2_norm_clip / batch_size\n",
    "        for param in net.parameters():\n",
    "            param.grad += torch.normal(0, sigma, param.grad.shape)\n",
    "        optimizer.step()\n",
    "\n",
    "        \n",
    "        "
   ]
  },
  {
   "cell_type": "code",
   "execution_count": null,
   "metadata": {},
   "outputs": [],
   "source": [
    "\n",
    "# evaluate the model\n",
    "x_test = torch.tensor(test.drop(columns=[\"Patv\"]).values).float()\n",
    "y_test = torch.tensor(test[\"Patv\"].values).float()\n",
    "\n",
    "test_dataloader = torch.utils.data.DataLoader(\n",
    "    list(zip(x_test, y_test)), batch_size=64, shuffle=True\n",
    ")\n",
    "\n",
    "net.eval()\n",
    "with torch.no_grad():\n",
    "    for data, target in test_dataloader:\n",
    "        output = net(data)\n",
    "        loss = nn.functional.mse_loss(output, target.view(-1, 1))\n",
    "    print(f\"Test Loss: {loss.item()}\")\n",
    "\n",
    "    \n"
   ]
  },
  {
   "cell_type": "code",
   "execution_count": null,
   "metadata": {},
   "outputs": [],
   "source": [
    "from sklearn.metrics import precision_score, recall_score, f1_score\n",
    "from sklearn.metrics import classification_report\n",
    "\n",
    "# Split the data into training and testing sets\n",
    "X = train.drop(columns=[\"Patv\"])\n",
    "y = train[\"Patv\"]\n",
    "\n",
    "X_test = test.drop(columns=[\"Patv\"])\n",
    "y_test = test[\"Patv\"]\n",
    "\n",
    "original_model = XGBClassifier()\n",
    "\n",
    "original_model.fit(X, y)\n",
    "\n",
    "y_pred = original_model.predict(X_test)\n",
    "\n",
    "# Calculate precision, recall, and F1 score, classification report\n",
    "precision = precision_score(y_test, y_pred, average=\"weighted\")\n",
    "recall = recall_score(y_test, y_pred, average=\"weighted\")\n",
    "f1 = f1_score(y_test, y_pred, average=\"weighted\")\n",
    "\n",
    "print(classification_report(y_test, y_pred))\n",
    "\n",
    "\n",
    "print(f\"Precision: {precision}\")\n",
    "print(f\"Recall: {recall}\")\n",
    "print(f\"F1 Score: {f1}\")"
   ]
  }
 ],
 "metadata": {
  "kernelspec": {
   "display_name": "atc",
   "language": "python",
   "name": "python3"
  },
  "language_info": {
   "codemirror_mode": {
    "name": "ipython",
    "version": 3
   },
   "file_extension": ".py",
   "mimetype": "text/x-python",
   "name": "python",
   "nbconvert_exporter": "python",
   "pygments_lexer": "ipython3",
   "version": "3.10.15"
  }
 },
 "nbformat": 4,
 "nbformat_minor": 2
}
