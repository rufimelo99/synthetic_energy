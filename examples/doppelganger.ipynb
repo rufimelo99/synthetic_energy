{
 "cells": [
  {
   "cell_type": "code",
   "execution_count": 4,
   "metadata": {},
   "outputs": [],
   "source": [
    "import pandas as pd\n",
    "import pytest\n",
    "from synthetic_energy.time_series.doppelganger.config import DGANConfig\n",
    "from synthetic_energy.time_series.doppelganger.doppelganger import DGAN"
   ]
  },
  {
   "cell_type": "code",
   "execution_count": 5,
   "metadata": {},
   "outputs": [
    {
     "name": "stdout",
     "output_type": "stream",
     "text": [
      "\u001b[2m2024-11-24 21:27:30\u001b[0m [\u001b[32m\u001b[1minfo     \u001b[0m] \u001b[1mTraining DGAN model           \u001b[0m \u001b[36mdtype\u001b[0m=\u001b[35mdtype('float64')\u001b[0m \u001b[36mfeatures_length\u001b[0m=\u001b[35m2\u001b[0m \u001b[36mfirst_sequence_shape\u001b[0m=\u001b[35m(2, 2)\u001b[0m\n",
      "\u001b[2m2024-11-24 21:27:30\u001b[0m [\u001b[32m\u001b[1minfo     \u001b[0m] \u001b[1mDetermining outputs metadata from input data\u001b[0m\n",
      "\u001b[2m2024-11-24 21:27:30\u001b[0m [\u001b[32m\u001b[1minfo     \u001b[0m] \u001b[1mBuilding DGAN networks        \u001b[0m\n",
      "\u001b[2m2024-11-24 21:27:30\u001b[0m [\u001b[32m\u001b[1minfo     \u001b[0m] \u001b[1mChecking for nans in the numeric columns\u001b[0m \u001b[36mnumber_of_columns\u001b[0m=\u001b[35m2\u001b[0m\n",
      "\u001b[2m2024-11-24 21:27:30\u001b[0m [\u001b[32m\u001b[1minfo     \u001b[0m] \u001b[1mApplying linear interpolations for nans (does not mean nans are present)\u001b[0m\n",
      "\u001b[2m2024-11-24 21:27:30\u001b[0m [\u001b[32m\u001b[1minfo     \u001b[0m] \u001b[1mCreating encoded array of features\u001b[0m\n",
      "\u001b[2m2024-11-24 21:27:30\u001b[0m [\u001b[32m\u001b[1minfo     \u001b[0m] \u001b[1mCreating encoded array of attributes\u001b[0m\n",
      "\u001b[2m2024-11-24 21:27:30\u001b[0m [\u001b[32m\u001b[1minfo     \u001b[0m] \u001b[1mTraining...                   \u001b[0m \u001b[36mdtype\u001b[0m=\u001b[35mdtype('float32')\u001b[0m \u001b[36minternal_additional_attributes_shape\u001b[0m=\u001b[35m(2, 4)\u001b[0m \u001b[36minternal_attributes_shape\u001b[0m=\u001b[35m(2, 1)\u001b[0m \u001b[36minternal_features_shape\u001b[0m=\u001b[35m(2, 20, 2)\u001b[0m\n",
      "\u001b[2m2024-11-24 21:27:30\u001b[0m [\u001b[32m\u001b[1minfo     \u001b[0m] \u001b[1mCreating TensorDataset        \u001b[0m\n",
      "\u001b[2m2024-11-24 21:27:30\u001b[0m [\u001b[32m\u001b[1minfo     \u001b[0m] \u001b[1mCalling _train()              \u001b[0m\n",
      "\u001b[2m2024-11-24 21:27:31\u001b[0m [\u001b[32m\u001b[1minfo     \u001b[0m] \u001b[1mTraining                      \u001b[0m \u001b[36mepoch\u001b[0m=\u001b[35m0\u001b[0m\n",
      "\u001b[2m2024-11-24 21:27:31\u001b[0m [\u001b[32m\u001b[1minfo     \u001b[0m] \u001b[1mTraining                      \u001b[0m \u001b[36mepoch\u001b[0m=\u001b[35m1\u001b[0m\n",
      "\u001b[2m2024-11-24 21:27:31\u001b[0m [\u001b[32m\u001b[1minfo     \u001b[0m] \u001b[1mTraining                      \u001b[0m \u001b[36mepoch\u001b[0m=\u001b[35m2\u001b[0m\n",
      "\u001b[2m2024-11-24 21:27:31\u001b[0m [\u001b[32m\u001b[1minfo     \u001b[0m] \u001b[1mTraining                      \u001b[0m \u001b[36mepoch\u001b[0m=\u001b[35m3\u001b[0m\n",
      "\u001b[2m2024-11-24 21:27:31\u001b[0m [\u001b[32m\u001b[1minfo     \u001b[0m] \u001b[1mTraining                      \u001b[0m \u001b[36mepoch\u001b[0m=\u001b[35m4\u001b[0m\n",
      "\u001b[2m2024-11-24 21:27:31\u001b[0m [\u001b[32m\u001b[1minfo     \u001b[0m] \u001b[1mTraining                      \u001b[0m \u001b[36mepoch\u001b[0m=\u001b[35m5\u001b[0m\n",
      "\u001b[2m2024-11-24 21:27:31\u001b[0m [\u001b[32m\u001b[1minfo     \u001b[0m] \u001b[1mTraining                      \u001b[0m \u001b[36mepoch\u001b[0m=\u001b[35m6\u001b[0m\n",
      "\u001b[2m2024-11-24 21:27:31\u001b[0m [\u001b[32m\u001b[1minfo     \u001b[0m] \u001b[1mTraining                      \u001b[0m \u001b[36mepoch\u001b[0m=\u001b[35m7\u001b[0m\n",
      "\u001b[2m2024-11-24 21:27:31\u001b[0m [\u001b[32m\u001b[1minfo     \u001b[0m] \u001b[1mTraining                      \u001b[0m \u001b[36mepoch\u001b[0m=\u001b[35m8\u001b[0m\n",
      "\u001b[2m2024-11-24 21:27:31\u001b[0m [\u001b[32m\u001b[1minfo     \u001b[0m] \u001b[1mTraining                      \u001b[0m \u001b[36mepoch\u001b[0m=\u001b[35m9\u001b[0m\n",
      "[[2.19083554 3.42989573]\n",
      " [2.15111166 3.44221601]\n",
      " [2.08244354 3.38032663]\n",
      " [2.18350801 3.47366124]\n",
      " [2.28440171 3.44832143]\n",
      " [2.14503762 3.39968333]\n",
      " [2.13892666 3.42371127]\n",
      " [2.02212521 3.31346613]\n",
      " [2.10627657 3.50240326]\n",
      " [2.28607345 3.4910019 ]\n",
      " [2.19511947 3.41389662]\n",
      " [2.11392641 3.43122861]\n",
      " [2.03989574 3.30282679]\n",
      " [2.12793273 3.49868268]\n",
      " [2.29810101 3.48401055]\n",
      " [2.13793978 3.38848019]\n",
      " [2.08830747 3.45578915]\n",
      " [1.99372831 3.29627416]\n",
      " [2.12085894 3.49357665]\n",
      " [2.32394499 3.48220882]]\n"
     ]
    },
    {
     "name": "stderr",
     "output_type": "stream",
     "text": [
      "/Users/ruimelo/anaconda3/envs/phd/lib/python3.10/site-packages/torch/amp/autocast_mode.py:266: UserWarning: User provided device_type of 'cuda', but CUDA is not available. Disabling\n",
      "  warnings.warn(\n"
     ]
    }
   ],
   "source": [
    "df = pd.DataFrame(\n",
    "            {\n",
    "                \"a\": [\n",
    "                    pd.Timestamp(\"2020-01-01\"),\n",
    "                    pd.Timestamp(\"2020-01-02\"),\n",
    "                    pd.Timestamp(\"2020-01-03\"),\n",
    "                    pd.Timestamp(\"2020-01-04\"),\n",
    "                    pd.Timestamp(\"2020-01-05\"),\n",
    "                ],\n",
    "                \"b\": [1.0, 2.0, 3.0, 4.0, 5.0],\n",
    "                \"c\": [2.0, 3.0, 4.0, 5.0, 6.0],\n",
    "            }\n",
    "        )\n",
    "\n",
    "\n",
    "\n",
    "# Shape: (5, 2)\n",
    "features = df.drop(columns=\"a\").to_numpy()\n",
    "n_time_points = 2\n",
    "n = features.shape[0] // n_time_points\n",
    "features = features[: n * n_time_points, :].reshape(\n",
    "    -1, n_time_points, features.shape[1]\n",
    ")\n",
    "# Shape is now (# examples, # time points, # features)\n",
    "# Shape: (2, 2, 2)\n",
    "\n",
    "\n",
    "config = DGANConfig(max_sequence_len=20, sample_len=5, batch_size=10, epochs=10, cuda=False)\n",
    "dg = DGAN(config=config)\n",
    "\n",
    "dg.train_numpy(\n",
    "    features=features,\n",
    ")\n",
    "\n",
    "attributes, features = dg.generate_numpy(18)\n",
    "\n",
    "print(features[0])\n"
   ]
  },
  {
   "cell_type": "code",
   "execution_count": 6,
   "metadata": {},
   "outputs": [
    {
     "name": "stdout",
     "output_type": "stream",
     "text": [
      "\u001b[2m2024-11-24 21:27:37\u001b[0m [\u001b[32m\u001b[1minfo     \u001b[0m] \u001b[1mTraining DGAN model           \u001b[0m \u001b[36mdtype\u001b[0m=\u001b[35mdtype('O')\u001b[0m \u001b[36mfeatures_length\u001b[0m=\u001b[35m4\u001b[0m \u001b[36mfirst_sequence_shape\u001b[0m=\u001b[35m(2, 11)\u001b[0m\n",
      "\u001b[2m2024-11-24 21:27:37\u001b[0m [\u001b[32m\u001b[1minfo     \u001b[0m] \u001b[1mDetermining outputs metadata from input data\u001b[0m\n",
      "\u001b[2m2024-11-24 21:27:37\u001b[0m [\u001b[32m\u001b[1minfo     \u001b[0m] \u001b[1mBuilding DGAN networks        \u001b[0m\n",
      "\u001b[2m2024-11-24 21:27:37\u001b[0m [\u001b[32m\u001b[1minfo     \u001b[0m] \u001b[1mChecking for nans in the numeric columns\u001b[0m \u001b[36mnumber_of_columns\u001b[0m=\u001b[35m10\u001b[0m\n",
      "\u001b[2m2024-11-24 21:27:37\u001b[0m [\u001b[32m\u001b[1minfo     \u001b[0m] \u001b[1mApplying linear interpolations for nans (does not mean nans are present)\u001b[0m\n",
      "\u001b[2m2024-11-24 21:27:37\u001b[0m [\u001b[32m\u001b[1minfo     \u001b[0m] \u001b[1mCreating encoded array of features\u001b[0m\n",
      "\u001b[2m2024-11-24 21:27:37\u001b[0m [\u001b[32m\u001b[1minfo     \u001b[0m] \u001b[1mCreating encoded array of attributes\u001b[0m\n",
      "\u001b[2m2024-11-24 21:27:37\u001b[0m [\u001b[32m\u001b[1minfo     \u001b[0m] \u001b[1mTraining...                   \u001b[0m \u001b[36mdtype\u001b[0m=\u001b[35mdtype('float32')\u001b[0m \u001b[36minternal_additional_attributes_shape\u001b[0m=\u001b[35m(4, 20)\u001b[0m \u001b[36minternal_attributes_shape\u001b[0m=\u001b[35m(4, 1)\u001b[0m \u001b[36minternal_features_shape\u001b[0m=\u001b[35m(4, 20, 18)\u001b[0m\n",
      "\u001b[2m2024-11-24 21:27:37\u001b[0m [\u001b[32m\u001b[1minfo     \u001b[0m] \u001b[1mCreating TensorDataset        \u001b[0m\n",
      "\u001b[2m2024-11-24 21:27:37\u001b[0m [\u001b[32m\u001b[1minfo     \u001b[0m] \u001b[1mCalling _train()              \u001b[0m\n",
      "\u001b[2m2024-11-24 21:27:37\u001b[0m [\u001b[32m\u001b[1minfo     \u001b[0m] \u001b[1mTraining                      \u001b[0m \u001b[36mepoch\u001b[0m=\u001b[35m0\u001b[0m\n",
      "\u001b[2m2024-11-24 21:27:37\u001b[0m [\u001b[32m\u001b[1minfo     \u001b[0m] \u001b[1mTraining                      \u001b[0m \u001b[36mepoch\u001b[0m=\u001b[35m1\u001b[0m\n",
      "\u001b[2m2024-11-24 21:27:37\u001b[0m [\u001b[32m\u001b[1minfo     \u001b[0m] \u001b[1mTraining                      \u001b[0m \u001b[36mepoch\u001b[0m=\u001b[35m2\u001b[0m\n",
      "\u001b[2m2024-11-24 21:27:37\u001b[0m [\u001b[32m\u001b[1minfo     \u001b[0m] \u001b[1mTraining                      \u001b[0m \u001b[36mepoch\u001b[0m=\u001b[35m3\u001b[0m\n",
      "\u001b[2m2024-11-24 21:27:37\u001b[0m [\u001b[32m\u001b[1minfo     \u001b[0m] \u001b[1mTraining                      \u001b[0m \u001b[36mepoch\u001b[0m=\u001b[35m4\u001b[0m\n",
      "\u001b[2m2024-11-24 21:27:38\u001b[0m [\u001b[32m\u001b[1minfo     \u001b[0m] \u001b[1mTraining                      \u001b[0m \u001b[36mepoch\u001b[0m=\u001b[35m5\u001b[0m\n",
      "\u001b[2m2024-11-24 21:27:38\u001b[0m [\u001b[32m\u001b[1minfo     \u001b[0m] \u001b[1mTraining                      \u001b[0m \u001b[36mepoch\u001b[0m=\u001b[35m6\u001b[0m\n",
      "\u001b[2m2024-11-24 21:27:38\u001b[0m [\u001b[32m\u001b[1minfo     \u001b[0m] \u001b[1mTraining                      \u001b[0m \u001b[36mepoch\u001b[0m=\u001b[35m7\u001b[0m\n",
      "\u001b[2m2024-11-24 21:27:38\u001b[0m [\u001b[32m\u001b[1minfo     \u001b[0m] \u001b[1mTraining                      \u001b[0m \u001b[36mepoch\u001b[0m=\u001b[35m8\u001b[0m\n",
      "\u001b[2m2024-11-24 21:27:38\u001b[0m [\u001b[32m\u001b[1minfo     \u001b[0m] \u001b[1mTraining                      \u001b[0m \u001b[36mepoch\u001b[0m=\u001b[35m9\u001b[0m\n"
     ]
    },
    {
     "name": "stderr",
     "output_type": "stream",
     "text": [
      "/Users/ruimelo/anaconda3/envs/phd/lib/python3.10/site-packages/torch/amp/autocast_mode.py:266: UserWarning: User provided device_type of 'cuda', but CUDA is not available. Disabling\n",
      "  warnings.warn(\n"
     ]
    }
   ],
   "source": [
    "\n",
    "filename = \"artifacts/time_series_sample.csv\"\n",
    "dataframe = pd.read_csv(filename)\n",
    "features = dataframe.to_numpy()\n",
    "n_time_points = 2\n",
    "n = features.shape[0] // n_time_points\n",
    "features = features[: n * n_time_points, :].reshape(\n",
    "    -1, n_time_points, features.shape[1]\n",
    ")\n",
    "\n",
    "config = DGANConfig(max_sequence_len=20, sample_len=5, batch_size=10, epochs=10)\n",
    "dg = DGAN(config=config)\n",
    "\n",
    "dg.train_numpy(\n",
    "    features=features,\n",
    ")\n",
    "\n",
    "attributes, features = dg.generate_numpy(18)\n"
   ]
  }
 ],
 "metadata": {
  "kernelspec": {
   "display_name": "Python 3",
   "language": "python",
   "name": "python3"
  },
  "language_info": {
   "codemirror_mode": {
    "name": "ipython",
    "version": 3
   },
   "file_extension": ".py",
   "mimetype": "text/x-python",
   "name": "python",
   "nbconvert_exporter": "python",
   "pygments_lexer": "ipython3",
   "version": "3.10.15"
  }
 },
 "nbformat": 4,
 "nbformat_minor": 2
}
