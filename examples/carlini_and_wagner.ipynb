{
 "cells": [
  {
   "cell_type": "code",
   "execution_count": 1,
   "metadata": {},
   "outputs": [],
   "source": [
    "%load_ext autoreload\n",
    "%autoreload 2"
   ]
  },
  {
   "cell_type": "markdown",
   "metadata": {},
   "source": [
    "Simple case study. We have a csv file with wind turbine data."
   ]
  },
  {
   "cell_type": "markdown",
   "metadata": {},
   "source": [
    "# Loading Data"
   ]
  },
  {
   "cell_type": "code",
   "execution_count": 3,
   "metadata": {},
   "outputs": [],
   "source": [
    "import pandas as pd\n",
    "from matplotlib import pyplot as plt\n",
    "\n",
    "from xgboost import XGBClassifier\n",
    "from sklearn.model_selection import train_test_split"
   ]
  },
  {
   "cell_type": "code",
   "execution_count": null,
   "metadata": {},
   "outputs": [],
   "source": [
    "power_data = pd.read_csv(\"artifacts/power_cleaned_data.csv\")\n",
    "\n",
    "bin_edges = range(0, int(power_data[\"Patv\"].max()) + 100, 100)\n",
    "\n",
    "# Bin the Patv column\n",
    "power_data[\"Patv\"] = pd.cut(\n",
    "    power_data[\"Patv\"], bins=bin_edges, labels=False, right=False\n",
    ")\n",
    "\n",
    "power_data.head()"
   ]
  },
  {
   "cell_type": "code",
   "execution_count": null,
   "metadata": {},
   "outputs": [],
   "source": [
    "class DataCleaner:\n",
    "    def __init__(self, data):\n",
    "        self.data = data\n",
    "\n",
    "    def clean_data(self):\n",
    "        # Apply all abnormal conditions to filter out invalid data\n",
    "        conditions = [\n",
    "            self.data[\"Patv\"] < 0,\n",
    "            (self.data[\"Wspd\"] < 1) & (self.data[\"Patv\"] > 10),\n",
    "            (self.data[\"Wspd\"] < 2) & (self.data[\"Patv\"] > 100),\n",
    "            (self.data[\"Wspd\"] < 3) & (self.data[\"Patv\"] > 200),\n",
    "            (self.data[\"Wspd\"] > 2.5) & (self.data[\"Patv\"] == 0),\n",
    "            (self.data[\"Wspd\"] == 0)\n",
    "            & (self.data[\"Wdir\"] == 0)\n",
    "            & (self.data[\"Etmp\"] == 0),\n",
    "            self.data[\"Etmp\"] < -21,\n",
    "            self.data[\"Itmp\"] < -21,\n",
    "            self.data[\"Etmp\"] > 60,\n",
    "            self.data[\"Itmp\"] > 70,\n",
    "            (self.data[\"Wdir\"] > 180) | (self.data[\"Wdir\"] < -180),\n",
    "            (self.data[\"Ndir\"] > 720) | (self.data[\"Ndir\"] < -720),\n",
    "            (self.data[\"Pab1\"] > 89)\n",
    "            | (self.data[\"Pab2\"] > 89)\n",
    "            | (self.data[\"Pab3\"] > 89),\n",
    "        ]\n",
    "\n",
    "        self.data[\"Patv\"] = self.data[\"Patv\"].astype(int)\n",
    "\n",
    "        # Combine all conditions with OR operator\n",
    "        combined_condition = conditions[0]\n",
    "        for condition in conditions[1:]:\n",
    "            combined_condition |= condition\n",
    "\n",
    "        # Filter out rows that meet any of the abnormal conditions\n",
    "        self.data = self.data[~combined_condition]\n",
    "\n",
    "        self.data = self.data.dropna()\n",
    "        return self.data\n",
    "\n",
    "\n",
    "# Create an instance of the DataCleaner class and clean the data\n",
    "cleaner = DataCleaner(power_data)\n",
    "cleaned_data = cleaner.clean_data()\n",
    "\n",
    "\n",
    "# Display the first few rows of the cleaned dataframe to verify the data is cleaned correctly\n",
    "cleaned_data.head()\n",
    "\n",
    "train, test = train_test_split(cleaned_data, test_size=0.5, random_state=42)\n",
    "train"
   ]
  },
  {
   "cell_type": "code",
   "execution_count": null,
   "metadata": {},
   "outputs": [],
   "source": [
    "# encode Tmstamp column to numeric values\n",
    "train[\"Tmstamp\"] = pd.to_datetime(train[\"Tmstamp\"]).astype(int) // 10**9\n",
    "test[\"Tmstamp\"] = pd.to_datetime(test[\"Tmstamp\"]).astype(int) // 10**9"
   ]
  },
  {
   "cell_type": "code",
   "execution_count": null,
   "metadata": {},
   "outputs": [],
   "source": [
    "train[\"Patv\"].hist()"
   ]
  },
  {
   "cell_type": "code",
   "execution_count": null,
   "metadata": {},
   "outputs": [],
   "source": [
    "test[\"Patv\"].hist()"
   ]
  },
  {
   "cell_type": "markdown",
   "metadata": {},
   "source": [
    "## Train Classifier"
   ]
  },
  {
   "cell_type": "code",
   "execution_count": 9,
   "metadata": {},
   "outputs": [],
   "source": [
    "from sklearn.metrics import precision_score, recall_score, f1_score\n",
    "from sklearn.metrics import classification_report\n",
    "from torch.optim import Adam\n",
    "from torch.utils.data import DataLoader, TensorDataset\n",
    "\n",
    "\n",
    "# Split the data into training and testing sets\n",
    "X = train.drop(columns=[\"Patv\"])\n",
    "y = train[\"Patv\"]\n",
    "\n",
    "X_test = test.drop(columns=[\"Patv\"])\n",
    "y_test = test[\"Patv\"]\n",
    "\n",
    "#original_model = XGBClassifier()\n",
    "\n",
    "# another alternative model in pytorch\n",
    "from torch import nn\n",
    "import torch\n",
    "class OurModel(nn.Module):\n",
    "    def __init__(self, input_size, hidden_size, num_classes):\n",
    "        super(OurModel, self).__init__()\n",
    "        self.fc1 = nn.Linear(input_size, hidden_size)\n",
    "        self.relu = nn.ReLU()\n",
    "        self.fc2 = nn.Linear(hidden_size, num_classes)\n",
    "    \n",
    "    def forward(self, x):\n",
    "        out = self.fc1(x)\n",
    "        out = self.relu(out)\n",
    "        out = self.fc2(out)\n",
    "        return out\n",
    "    \n",
    "\n",
    "\n",
    "original_model = OurModel(input_size=12, hidden_size=100, num_classes=16)\n",
    "\n",
    "\n",
    "X_train_tensor = torch.tensor(X.values).long()\n",
    "y_train_tensor = torch.tensor(y.values).long()\n",
    "device = torch.device(\"cuda\" if torch.cuda.is_available() else \"cpu\")\n",
    "original_model.to(device)\n",
    "\n",
    "train_dataset = TensorDataset(X_train_tensor, y_train_tensor)\n",
    "train_loader = DataLoader(train_dataset, batch_size=32, shuffle=True)\n",
    "\n",
    "criterion = nn.CrossEntropyLoss()\n",
    "optimizer = Adam(original_model.parameters(), lr=0.001)\n",
    "\n",
    "num_epochs = 10\n"
   ]
  },
  {
   "cell_type": "code",
   "execution_count": null,
   "metadata": {},
   "outputs": [],
   "source": [
    "\n",
    "for epoch in range(num_epochs):\n",
    "    for i, (X_batch, y_batch) in enumerate(train_loader):\n",
    "\n",
    "        print(i)\n",
    "        print(X_batch.shape)\n",
    "        print(y_batch.shape)\n",
    "\n",
    "\n",
    "        optimizer.zero_grad()\n",
    "        # change to float\n",
    "        X_batch = X_batch.float().to(device)\n",
    "        \n",
    "        outputs = original_model(X_batch)\n",
    "\n",
    "        loss = criterion(outputs, y_batch)\n",
    "        loss.backward()\n",
    "        optimizer.step()\n",
    "        \n",
    "        if (i+1) % 100 == 0:\n",
    "            print(f\"Epoch {epoch+1}/{num_epochs}, Step {i+1}, Loss: {loss.item()}\")\n"
   ]
  },
  {
   "cell_type": "code",
   "execution_count": null,
   "metadata": {},
   "outputs": [],
   "source": [
    "X_test_tensor = torch.tensor(X_test.values).long()\n",
    "y_test_tensor = torch.tensor(y_test.values).long()\n",
    "\n",
    "X_test_tensor = X_test_tensor.float().to(device)\n",
    "\n",
    "outputs = original_model(X_test_tensor)\n",
    "_, y_pred = torch.max(outputs, 1)\n",
    "\n",
    "y_pred = y_pred.cpu().numpy()\n",
    "\n",
    "\n",
    "\n",
    "# Calculate precision, recall, and F1 score, classification report\n",
    "precision = precision_score(y_test, y_pred, average=\"weighted\")\n",
    "recall = recall_score(y_test, y_pred, average=\"weighted\")\n",
    "f1 = f1_score(y_test, y_pred, average=\"weighted\")\n",
    "\n",
    "print(classification_report(y_test, y_pred))\n",
    "\n",
    "\n",
    "print(f\"Precision: {precision}\")\n",
    "print(f\"Recall: {recall}\")\n",
    "print(f\"F1 Score: {f1}\")"
   ]
  },
  {
   "cell_type": "code",
   "execution_count": null,
   "metadata": {},
   "outputs": [],
   "source": [
    "from synthetic_energy.attacks import CarliniWagnerAttack\n",
    "import torch\n",
    "\n",
    "\n",
    "cw = CarliniWagnerAttack(\n",
    "    device=\"cpu\"\n",
    ")\n",
    "\n",
    "x_text_float = X_test.values.astype(float)\n",
    "y_test_float = y_test.values.astype(float)\n",
    "\n",
    "\n",
    "y_test_dataloader = torch.utils.data.DataLoader(\n",
    "    list(zip(x_text_float, y_test_float)),\n",
    "    batch_size=1, shuffle=False\n",
    ")\n",
    "\n",
    "adv_examples, all_examples = cw.attack(original_model, y_test_dataloader)"
   ]
  }
 ],
 "metadata": {
  "kernelspec": {
   "display_name": "icsp",
   "language": "python",
   "name": "python3"
  },
  "language_info": {
   "codemirror_mode": {
    "name": "ipython",
    "version": 3
   },
   "file_extension": ".py",
   "mimetype": "text/x-python",
   "name": "python",
   "nbconvert_exporter": "python",
   "pygments_lexer": "ipython3",
   "version": "3.8.20"
  }
 },
 "nbformat": 4,
 "nbformat_minor": 2
}
