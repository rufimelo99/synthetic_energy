{
 "cells": [
  {
   "cell_type": "code",
   "execution_count": 1,
   "metadata": {},
   "outputs": [],
   "source": [
    "%load_ext autoreload\n",
    "%autoreload 2"
   ]
  },
  {
   "cell_type": "markdown",
   "metadata": {},
   "source": [
    "Simple case study. We have a csv file with wind turbine data."
   ]
  },
  {
   "cell_type": "markdown",
   "metadata": {},
   "source": [
    "# Installation"
   ]
  },
  {
   "cell_type": "code",
   "execution_count": 2,
   "metadata": {},
   "outputs": [
    {
     "name": "stdout",
     "output_type": "stream",
     "text": [
      "Requirement already satisfied: xgboost in /Users/ruimelo/anaconda3/envs/phd/lib/python3.10/site-packages (2.1.3)\n",
      "Requirement already satisfied: matplotlib in /Users/ruimelo/anaconda3/envs/phd/lib/python3.10/site-packages (3.9.3)\n",
      "Requirement already satisfied: numpy in /Users/ruimelo/anaconda3/envs/phd/lib/python3.10/site-packages (from xgboost) (1.26.4)\n",
      "Requirement already satisfied: scipy in /Users/ruimelo/anaconda3/envs/phd/lib/python3.10/site-packages (from xgboost) (1.14.1)\n",
      "Requirement already satisfied: contourpy>=1.0.1 in /Users/ruimelo/anaconda3/envs/phd/lib/python3.10/site-packages (from matplotlib) (1.3.1)\n",
      "Requirement already satisfied: cycler>=0.10 in /Users/ruimelo/anaconda3/envs/phd/lib/python3.10/site-packages (from matplotlib) (0.12.1)\n",
      "Requirement already satisfied: fonttools>=4.22.0 in /Users/ruimelo/anaconda3/envs/phd/lib/python3.10/site-packages (from matplotlib) (4.55.1)\n",
      "Requirement already satisfied: kiwisolver>=1.3.1 in /Users/ruimelo/anaconda3/envs/phd/lib/python3.10/site-packages (from matplotlib) (1.4.7)\n",
      "Requirement already satisfied: packaging>=20.0 in /Users/ruimelo/.local/lib/python3.10/site-packages (from matplotlib) (24.2)\n",
      "Requirement already satisfied: pillow>=8 in /Users/ruimelo/anaconda3/envs/phd/lib/python3.10/site-packages (from matplotlib) (11.0.0)\n",
      "Requirement already satisfied: pyparsing>=2.3.1 in /Users/ruimelo/anaconda3/envs/phd/lib/python3.10/site-packages (from matplotlib) (3.2.0)\n",
      "Requirement already satisfied: python-dateutil>=2.7 in /Users/ruimelo/.local/lib/python3.10/site-packages (from matplotlib) (2.9.0.post0)\n",
      "Requirement already satisfied: six>=1.5 in /Users/ruimelo/.local/lib/python3.10/site-packages (from python-dateutil>=2.7->matplotlib) (1.16.0)\n",
      "Collecting en-core-web-sm==3.8.0\n",
      "  Downloading https://github.com/explosion/spacy-models/releases/download/en_core_web_sm-3.8.0/en_core_web_sm-3.8.0-py3-none-any.whl (12.8 MB)\n",
      "\u001b[2K     \u001b[90m━━━━━━━━━━━━━━━━━━━━━━━━━━━━━━━━━━━━━━━━\u001b[0m \u001b[32m12.8/12.8 MB\u001b[0m \u001b[31m72.2 MB/s\u001b[0m eta \u001b[36m0:00:00\u001b[0m\n",
      "\u001b[?25h\u001b[38;5;2m✔ Download and installation successful\u001b[0m\n",
      "You can now load the package via spacy.load('en_core_web_sm')\n"
     ]
    }
   ],
   "source": [
    "!pip install xgboost matplotlib\n",
    "!python -m spacy download en_core_web_sm"
   ]
  },
  {
   "cell_type": "markdown",
   "metadata": {},
   "source": [
    "# Loading Data"
   ]
  },
  {
   "cell_type": "code",
   "execution_count": 3,
   "metadata": {},
   "outputs": [],
   "source": [
    "import pandas as pd\n",
    "from matplotlib import pyplot as plt\n",
    "\n",
    "from xgboost import XGBClassifier\n",
    "from sklearn.model_selection import train_test_split"
   ]
  },
  {
   "cell_type": "code",
   "execution_count": 4,
   "metadata": {},
   "outputs": [
    {
     "data": {
      "text/html": [
       "<div>\n",
       "<style scoped>\n",
       "    .dataframe tbody tr th:only-of-type {\n",
       "        vertical-align: middle;\n",
       "    }\n",
       "\n",
       "    .dataframe tbody tr th {\n",
       "        vertical-align: top;\n",
       "    }\n",
       "\n",
       "    .dataframe thead th {\n",
       "        text-align: right;\n",
       "    }\n",
       "</style>\n",
       "<table border=\"1\" class=\"dataframe\">\n",
       "  <thead>\n",
       "    <tr style=\"text-align: right;\">\n",
       "      <th></th>\n",
       "      <th>TurbID</th>\n",
       "      <th>Day</th>\n",
       "      <th>Tmstamp</th>\n",
       "      <th>Wspd</th>\n",
       "      <th>Wdir</th>\n",
       "      <th>Etmp</th>\n",
       "      <th>Itmp</th>\n",
       "      <th>Ndir</th>\n",
       "      <th>Pab1</th>\n",
       "      <th>Pab2</th>\n",
       "      <th>Pab3</th>\n",
       "      <th>Prtv</th>\n",
       "      <th>Patv</th>\n",
       "    </tr>\n",
       "  </thead>\n",
       "  <tbody>\n",
       "    <tr>\n",
       "      <th>0</th>\n",
       "      <td>1</td>\n",
       "      <td>53</td>\n",
       "      <td>20:00</td>\n",
       "      <td>7.96</td>\n",
       "      <td>3.38</td>\n",
       "      <td>34.93</td>\n",
       "      <td>45.50</td>\n",
       "      <td>212.74</td>\n",
       "      <td>1.00</td>\n",
       "      <td>1.00</td>\n",
       "      <td>1.00</td>\n",
       "      <td>-0.23</td>\n",
       "      <td>8</td>\n",
       "    </tr>\n",
       "    <tr>\n",
       "      <th>1</th>\n",
       "      <td>1</td>\n",
       "      <td>53</td>\n",
       "      <td>20:10</td>\n",
       "      <td>8.97</td>\n",
       "      <td>-1.94</td>\n",
       "      <td>34.90</td>\n",
       "      <td>45.54</td>\n",
       "      <td>207.82</td>\n",
       "      <td>1.00</td>\n",
       "      <td>1.00</td>\n",
       "      <td>1.00</td>\n",
       "      <td>-0.21</td>\n",
       "      <td>10</td>\n",
       "    </tr>\n",
       "    <tr>\n",
       "      <th>2</th>\n",
       "      <td>1</td>\n",
       "      <td>53</td>\n",
       "      <td>20:20</td>\n",
       "      <td>8.98</td>\n",
       "      <td>5.65</td>\n",
       "      <td>34.85</td>\n",
       "      <td>45.58</td>\n",
       "      <td>220.33</td>\n",
       "      <td>1.00</td>\n",
       "      <td>1.00</td>\n",
       "      <td>1.00</td>\n",
       "      <td>-0.20</td>\n",
       "      <td>11</td>\n",
       "    </tr>\n",
       "    <tr>\n",
       "      <th>3</th>\n",
       "      <td>1</td>\n",
       "      <td>53</td>\n",
       "      <td>20:30</td>\n",
       "      <td>8.12</td>\n",
       "      <td>1.19</td>\n",
       "      <td>34.52</td>\n",
       "      <td>45.49</td>\n",
       "      <td>251.20</td>\n",
       "      <td>1.00</td>\n",
       "      <td>1.00</td>\n",
       "      <td>1.00</td>\n",
       "      <td>-0.20</td>\n",
       "      <td>9</td>\n",
       "    </tr>\n",
       "    <tr>\n",
       "      <th>4</th>\n",
       "      <td>1</td>\n",
       "      <td>53</td>\n",
       "      <td>20:40</td>\n",
       "      <td>5.89</td>\n",
       "      <td>-1.71</td>\n",
       "      <td>34.24</td>\n",
       "      <td>45.46</td>\n",
       "      <td>249.54</td>\n",
       "      <td>0.99</td>\n",
       "      <td>0.99</td>\n",
       "      <td>0.99</td>\n",
       "      <td>-0.24</td>\n",
       "      <td>4</td>\n",
       "    </tr>\n",
       "  </tbody>\n",
       "</table>\n",
       "</div>"
      ],
      "text/plain": [
       "   TurbID  Day Tmstamp  Wspd  Wdir   Etmp   Itmp    Ndir  Pab1  Pab2  Pab3  \\\n",
       "0       1   53   20:00  7.96  3.38  34.93  45.50  212.74  1.00  1.00  1.00   \n",
       "1       1   53   20:10  8.97 -1.94  34.90  45.54  207.82  1.00  1.00  1.00   \n",
       "2       1   53   20:20  8.98  5.65  34.85  45.58  220.33  1.00  1.00  1.00   \n",
       "3       1   53   20:30  8.12  1.19  34.52  45.49  251.20  1.00  1.00  1.00   \n",
       "4       1   53   20:40  5.89 -1.71  34.24  45.46  249.54  0.99  0.99  0.99   \n",
       "\n",
       "   Prtv  Patv  \n",
       "0 -0.23     8  \n",
       "1 -0.21    10  \n",
       "2 -0.20    11  \n",
       "3 -0.20     9  \n",
       "4 -0.24     4  "
      ]
     },
     "execution_count": 4,
     "metadata": {},
     "output_type": "execute_result"
    }
   ],
   "source": [
    "power_data = pd.read_csv(\"artifacts/power_cleaned_data.csv\")\n",
    "\n",
    "bin_edges = range(0, int(power_data[\"Patv\"].max()) + 100, 100)\n",
    "\n",
    "# Bin the Patv column\n",
    "power_data[\"Patv\"] = pd.cut(\n",
    "    power_data[\"Patv\"], bins=bin_edges, labels=False, right=False\n",
    ")\n",
    "\n",
    "power_data.head()"
   ]
  },
  {
   "cell_type": "code",
   "execution_count": 5,
   "metadata": {},
   "outputs": [
    {
     "data": {
      "text/html": [
       "<div>\n",
       "<style scoped>\n",
       "    .dataframe tbody tr th:only-of-type {\n",
       "        vertical-align: middle;\n",
       "    }\n",
       "\n",
       "    .dataframe tbody tr th {\n",
       "        vertical-align: top;\n",
       "    }\n",
       "\n",
       "    .dataframe thead th {\n",
       "        text-align: right;\n",
       "    }\n",
       "</style>\n",
       "<table border=\"1\" class=\"dataframe\">\n",
       "  <thead>\n",
       "    <tr style=\"text-align: right;\">\n",
       "      <th></th>\n",
       "      <th>TurbID</th>\n",
       "      <th>Day</th>\n",
       "      <th>Tmstamp</th>\n",
       "      <th>Wspd</th>\n",
       "      <th>Wdir</th>\n",
       "      <th>Etmp</th>\n",
       "      <th>Itmp</th>\n",
       "      <th>Ndir</th>\n",
       "      <th>Pab1</th>\n",
       "      <th>Pab2</th>\n",
       "      <th>Pab3</th>\n",
       "      <th>Prtv</th>\n",
       "      <th>Patv</th>\n",
       "    </tr>\n",
       "  </thead>\n",
       "  <tbody>\n",
       "    <tr>\n",
       "      <th>577</th>\n",
       "      <td>1</td>\n",
       "      <td>58</td>\n",
       "      <td>09:50</td>\n",
       "      <td>3.16</td>\n",
       "      <td>1.60</td>\n",
       "      <td>20.52</td>\n",
       "      <td>29.20</td>\n",
       "      <td>196.95</td>\n",
       "      <td>0.99</td>\n",
       "      <td>0.99</td>\n",
       "      <td>0.99</td>\n",
       "      <td>-0.23</td>\n",
       "      <td>1</td>\n",
       "    </tr>\n",
       "    <tr>\n",
       "      <th>2631</th>\n",
       "      <td>1</td>\n",
       "      <td>78</td>\n",
       "      <td>16:40</td>\n",
       "      <td>8.88</td>\n",
       "      <td>1.57</td>\n",
       "      <td>25.22</td>\n",
       "      <td>35.30</td>\n",
       "      <td>-1.60</td>\n",
       "      <td>1.00</td>\n",
       "      <td>1.00</td>\n",
       "      <td>1.00</td>\n",
       "      <td>-0.24</td>\n",
       "      <td>10</td>\n",
       "    </tr>\n",
       "    <tr>\n",
       "      <th>1851</th>\n",
       "      <td>1</td>\n",
       "      <td>71</td>\n",
       "      <td>19:50</td>\n",
       "      <td>2.14</td>\n",
       "      <td>-0.19</td>\n",
       "      <td>36.53</td>\n",
       "      <td>44.29</td>\n",
       "      <td>120.98</td>\n",
       "      <td>0.99</td>\n",
       "      <td>0.99</td>\n",
       "      <td>0.99</td>\n",
       "      <td>-0.25</td>\n",
       "      <td>0</td>\n",
       "    </tr>\n",
       "    <tr>\n",
       "      <th>2280</th>\n",
       "      <td>1</td>\n",
       "      <td>75</td>\n",
       "      <td>08:30</td>\n",
       "      <td>3.15</td>\n",
       "      <td>-1.29</td>\n",
       "      <td>27.42</td>\n",
       "      <td>36.48</td>\n",
       "      <td>31.15</td>\n",
       "      <td>0.99</td>\n",
       "      <td>0.99</td>\n",
       "      <td>0.99</td>\n",
       "      <td>-0.23</td>\n",
       "      <td>1</td>\n",
       "    </tr>\n",
       "    <tr>\n",
       "      <th>3103</th>\n",
       "      <td>1</td>\n",
       "      <td>82</td>\n",
       "      <td>10:50</td>\n",
       "      <td>4.23</td>\n",
       "      <td>1.02</td>\n",
       "      <td>30.59</td>\n",
       "      <td>39.32</td>\n",
       "      <td>192.70</td>\n",
       "      <td>0.99</td>\n",
       "      <td>0.99</td>\n",
       "      <td>0.99</td>\n",
       "      <td>-0.21</td>\n",
       "      <td>2</td>\n",
       "    </tr>\n",
       "    <tr>\n",
       "      <th>...</th>\n",
       "      <td>...</td>\n",
       "      <td>...</td>\n",
       "      <td>...</td>\n",
       "      <td>...</td>\n",
       "      <td>...</td>\n",
       "      <td>...</td>\n",
       "      <td>...</td>\n",
       "      <td>...</td>\n",
       "      <td>...</td>\n",
       "      <td>...</td>\n",
       "      <td>...</td>\n",
       "      <td>...</td>\n",
       "      <td>...</td>\n",
       "    </tr>\n",
       "    <tr>\n",
       "      <th>1191</th>\n",
       "      <td>1</td>\n",
       "      <td>64</td>\n",
       "      <td>21:30</td>\n",
       "      <td>10.24</td>\n",
       "      <td>-0.43</td>\n",
       "      <td>33.36</td>\n",
       "      <td>44.09</td>\n",
       "      <td>69.93</td>\n",
       "      <td>1.00</td>\n",
       "      <td>1.00</td>\n",
       "      <td>1.00</td>\n",
       "      <td>-0.26</td>\n",
       "      <td>13</td>\n",
       "    </tr>\n",
       "    <tr>\n",
       "      <th>1357</th>\n",
       "      <td>1</td>\n",
       "      <td>67</td>\n",
       "      <td>15:30</td>\n",
       "      <td>10.34</td>\n",
       "      <td>1.75</td>\n",
       "      <td>39.74</td>\n",
       "      <td>51.45</td>\n",
       "      <td>49.58</td>\n",
       "      <td>1.02</td>\n",
       "      <td>1.02</td>\n",
       "      <td>1.02</td>\n",
       "      <td>-0.22</td>\n",
       "      <td>12</td>\n",
       "    </tr>\n",
       "    <tr>\n",
       "      <th>898</th>\n",
       "      <td>1</td>\n",
       "      <td>61</td>\n",
       "      <td>12:50</td>\n",
       "      <td>1.89</td>\n",
       "      <td>-12.24</td>\n",
       "      <td>29.20</td>\n",
       "      <td>36.59</td>\n",
       "      <td>221.58</td>\n",
       "      <td>1.00</td>\n",
       "      <td>1.00</td>\n",
       "      <td>1.90</td>\n",
       "      <td>0.00</td>\n",
       "      <td>0</td>\n",
       "    </tr>\n",
       "    <tr>\n",
       "      <th>3751</th>\n",
       "      <td>1</td>\n",
       "      <td>89</td>\n",
       "      <td>01:00</td>\n",
       "      <td>10.52</td>\n",
       "      <td>-1.63</td>\n",
       "      <td>35.17</td>\n",
       "      <td>45.99</td>\n",
       "      <td>15.60</td>\n",
       "      <td>1.00</td>\n",
       "      <td>1.00</td>\n",
       "      <td>1.00</td>\n",
       "      <td>-0.31</td>\n",
       "      <td>14</td>\n",
       "    </tr>\n",
       "    <tr>\n",
       "      <th>3388</th>\n",
       "      <td>1</td>\n",
       "      <td>85</td>\n",
       "      <td>14:20</td>\n",
       "      <td>10.14</td>\n",
       "      <td>-3.10</td>\n",
       "      <td>34.12</td>\n",
       "      <td>42.21</td>\n",
       "      <td>197.96</td>\n",
       "      <td>1.02</td>\n",
       "      <td>1.02</td>\n",
       "      <td>1.02</td>\n",
       "      <td>-0.22</td>\n",
       "      <td>12</td>\n",
       "    </tr>\n",
       "  </tbody>\n",
       "</table>\n",
       "<p>1866 rows × 13 columns</p>\n",
       "</div>"
      ],
      "text/plain": [
       "      TurbID  Day Tmstamp   Wspd   Wdir   Etmp   Itmp    Ndir  Pab1  Pab2  \\\n",
       "577        1   58   09:50   3.16   1.60  20.52  29.20  196.95  0.99  0.99   \n",
       "2631       1   78   16:40   8.88   1.57  25.22  35.30   -1.60  1.00  1.00   \n",
       "1851       1   71   19:50   2.14  -0.19  36.53  44.29  120.98  0.99  0.99   \n",
       "2280       1   75   08:30   3.15  -1.29  27.42  36.48   31.15  0.99  0.99   \n",
       "3103       1   82   10:50   4.23   1.02  30.59  39.32  192.70  0.99  0.99   \n",
       "...      ...  ...     ...    ...    ...    ...    ...     ...   ...   ...   \n",
       "1191       1   64   21:30  10.24  -0.43  33.36  44.09   69.93  1.00  1.00   \n",
       "1357       1   67   15:30  10.34   1.75  39.74  51.45   49.58  1.02  1.02   \n",
       "898        1   61   12:50   1.89 -12.24  29.20  36.59  221.58  1.00  1.00   \n",
       "3751       1   89   01:00  10.52  -1.63  35.17  45.99   15.60  1.00  1.00   \n",
       "3388       1   85   14:20  10.14  -3.10  34.12  42.21  197.96  1.02  1.02   \n",
       "\n",
       "      Pab3  Prtv  Patv  \n",
       "577   0.99 -0.23     1  \n",
       "2631  1.00 -0.24    10  \n",
       "1851  0.99 -0.25     0  \n",
       "2280  0.99 -0.23     1  \n",
       "3103  0.99 -0.21     2  \n",
       "...    ...   ...   ...  \n",
       "1191  1.00 -0.26    13  \n",
       "1357  1.02 -0.22    12  \n",
       "898   1.90  0.00     0  \n",
       "3751  1.00 -0.31    14  \n",
       "3388  1.02 -0.22    12  \n",
       "\n",
       "[1866 rows x 13 columns]"
      ]
     },
     "execution_count": 5,
     "metadata": {},
     "output_type": "execute_result"
    }
   ],
   "source": [
    "class DataCleaner:\n",
    "    def __init__(self, data):\n",
    "        self.data = data\n",
    "\n",
    "    def clean_data(self):\n",
    "        # Apply all abnormal conditions to filter out invalid data\n",
    "        conditions = [\n",
    "            self.data[\"Patv\"] < 0,\n",
    "            (self.data[\"Wspd\"] < 1) & (self.data[\"Patv\"] > 10),\n",
    "            (self.data[\"Wspd\"] < 2) & (self.data[\"Patv\"] > 100),\n",
    "            (self.data[\"Wspd\"] < 3) & (self.data[\"Patv\"] > 200),\n",
    "            (self.data[\"Wspd\"] > 2.5) & (self.data[\"Patv\"] == 0),\n",
    "            (self.data[\"Wspd\"] == 0)\n",
    "            & (self.data[\"Wdir\"] == 0)\n",
    "            & (self.data[\"Etmp\"] == 0),\n",
    "            self.data[\"Etmp\"] < -21,\n",
    "            self.data[\"Itmp\"] < -21,\n",
    "            self.data[\"Etmp\"] > 60,\n",
    "            self.data[\"Itmp\"] > 70,\n",
    "            (self.data[\"Wdir\"] > 180) | (self.data[\"Wdir\"] < -180),\n",
    "            (self.data[\"Ndir\"] > 720) | (self.data[\"Ndir\"] < -720),\n",
    "            (self.data[\"Pab1\"] > 89)\n",
    "            | (self.data[\"Pab2\"] > 89)\n",
    "            | (self.data[\"Pab3\"] > 89),\n",
    "        ]\n",
    "\n",
    "        self.data[\"Patv\"] = self.data[\"Patv\"].astype(int)\n",
    "\n",
    "        # Combine all conditions with OR operator\n",
    "        combined_condition = conditions[0]\n",
    "        for condition in conditions[1:]:\n",
    "            combined_condition |= condition\n",
    "\n",
    "        # Filter out rows that meet any of the abnormal conditions\n",
    "        self.data = self.data[~combined_condition]\n",
    "\n",
    "        self.data = self.data.dropna()\n",
    "        return self.data\n",
    "\n",
    "\n",
    "# Create an instance of the DataCleaner class and clean the data\n",
    "cleaner = DataCleaner(power_data)\n",
    "cleaned_data = cleaner.clean_data()\n",
    "\n",
    "\n",
    "# Display the first few rows of the cleaned dataframe to verify the data is cleaned correctly\n",
    "cleaned_data.head()\n",
    "\n",
    "train, test = train_test_split(cleaned_data, test_size=0.5, random_state=42)\n",
    "train"
   ]
  },
  {
   "cell_type": "code",
   "execution_count": 6,
   "metadata": {},
   "outputs": [
    {
     "name": "stderr",
     "output_type": "stream",
     "text": [
      "/var/folders/b4/lwfgccm95kqd2skcwvrt2fr00000gn/T/ipykernel_26086/2176833310.py:2: UserWarning: Could not infer format, so each element will be parsed individually, falling back to `dateutil`. To ensure parsing is consistent and as-expected, please specify a format.\n",
      "  train[\"Tmstamp\"] = pd.to_datetime(train[\"Tmstamp\"]).astype(int) // 10**9\n",
      "/var/folders/b4/lwfgccm95kqd2skcwvrt2fr00000gn/T/ipykernel_26086/2176833310.py:3: UserWarning: Could not infer format, so each element will be parsed individually, falling back to `dateutil`. To ensure parsing is consistent and as-expected, please specify a format.\n",
      "  test[\"Tmstamp\"] = pd.to_datetime(test[\"Tmstamp\"]).astype(int) // 10**9\n"
     ]
    }
   ],
   "source": [
    "# encode Tmstamp column to numeric values\n",
    "train[\"Tmstamp\"] = pd.to_datetime(train[\"Tmstamp\"]).astype(int) // 10**9\n",
    "test[\"Tmstamp\"] = pd.to_datetime(test[\"Tmstamp\"]).astype(int) // 10**9"
   ]
  },
  {
   "cell_type": "code",
   "execution_count": 7,
   "metadata": {},
   "outputs": [
    {
     "data": {
      "text/plain": [
       "<Axes: >"
      ]
     },
     "execution_count": 7,
     "metadata": {},
     "output_type": "execute_result"
    },
    {
     "data": {
      "image/png": "[encoded data removed]",
      "text/plain": [
       "<Figure size 640x480 with 1 Axes>"
      ]
     },
     "metadata": {},
     "output_type": "display_data"
    }
   ],
   "source": [
    "train[\"Patv\"].hist()"
   ]
  },
  {
   "cell_type": "code",
   "execution_count": 8,
   "metadata": {},
   "outputs": [
    {
     "data": {
      "text/plain": [
       "<Axes: >"
      ]
     },
     "execution_count": 8,
     "metadata": {},
     "output_type": "execute_result"
    },
    {
     "data": {
      "image/png": "[encoded data removed]",
      "text/plain": [
       "<Figure size 640x480 with 1 Axes>"
      ]
     },
     "metadata": {},
     "output_type": "display_data"
    }
   ],
   "source": [
    "test[\"Patv\"].hist()"
   ]
  },
  {
   "cell_type": "markdown",
   "metadata": {},
   "source": [
    "## Train Classifier"
   ]
  },
  {
   "cell_type": "code",
   "execution_count": 9,
   "metadata": {},
   "outputs": [],
   "source": [
    "from sklearn.metrics import precision_score, recall_score, f1_score\n",
    "from sklearn.metrics import classification_report\n",
    "from torch.optim import Adam\n",
    "from torch.utils.data import DataLoader, TensorDataset\n",
    "\n",
    "\n",
    "# Split the data into training and testing sets\n",
    "X = train.drop(columns=[\"Patv\"])\n",
    "y = train[\"Patv\"]\n",
    "\n",
    "X_test = test.drop(columns=[\"Patv\"])\n",
    "y_test = test[\"Patv\"]\n",
    "\n",
    "#original_model = XGBClassifier()\n",
    "\n",
    "# another alternative model in pytorch\n",
    "from torch import nn\n",
    "import torch\n",
    "class OurModel(nn.Module):\n",
    "    def __init__(self, input_size, hidden_size, num_classes):\n",
    "        super(OurModel, self).__init__()\n",
    "        self.fc1 = nn.Linear(input_size, hidden_size)\n",
    "        self.relu = nn.ReLU()\n",
    "        self.fc2 = nn.Linear(hidden_size, num_classes)\n",
    "    \n",
    "    def forward(self, x):\n",
    "        out = self.fc1(x)\n",
    "        out = self.relu(out)\n",
    "        out = self.fc2(out)\n",
    "        return out\n",
    "    \n",
    "\n",
    "\n",
    "original_model = OurModel(input_size=12, hidden_size=100, num_classes=16)\n",
    "\n",
    "\n",
    "X_train_tensor = torch.tensor(X.values).long()\n",
    "y_train_tensor = torch.tensor(y.values).long()\n",
    "device = torch.device(\"cuda\" if torch.cuda.is_available() else \"cpu\")\n",
    "original_model.to(device)\n",
    "\n",
    "train_dataset = TensorDataset(X_train_tensor, y_train_tensor)\n",
    "train_loader = DataLoader(train_dataset, batch_size=32, shuffle=True)\n",
    "\n",
    "criterion = nn.CrossEntropyLoss()\n",
    "optimizer = Adam(original_model.parameters(), lr=0.001)\n",
    "\n",
    "num_epochs = 10\n"
   ]
  },
  {
   "cell_type": "code",
   "execution_count": 10,
   "metadata": {},
   "outputs": [
    {
     "name": "stdout",
     "output_type": "stream",
     "text": [
      "0\n",
      "torch.Size([32, 12])\n",
      "torch.Size([32])\n"
     ]
    },
    {
     "ename": "NameError",
     "evalue": "name 'sddwe' is not defined",
     "output_type": "error",
     "traceback": [
      "\u001b[0;31m---------------------------------------------------------------------------\u001b[0m",
      "\u001b[0;31mNameError\u001b[0m                                 Traceback (most recent call last)",
      "Cell \u001b[0;32mIn[10], line 14\u001b[0m\n\u001b[1;32m     11\u001b[0m X_batch \u001b[38;5;241m=\u001b[39m X_batch\u001b[38;5;241m.\u001b[39mfloat()\u001b[38;5;241m.\u001b[39mto(device)\n\u001b[1;32m     13\u001b[0m outputs \u001b[38;5;241m=\u001b[39m original_model(X_batch)\n\u001b[0;32m---> 14\u001b[0m \u001b[43msddwe\u001b[49m\n\u001b[1;32m     15\u001b[0m loss \u001b[38;5;241m=\u001b[39m criterion(outputs, y_batch)\n\u001b[1;32m     16\u001b[0m loss\u001b[38;5;241m.\u001b[39mbackward()\n",
      "\u001b[0;31mNameError\u001b[0m: name 'sddwe' is not defined"
     ]
    }
   ],
   "source": [
    "\n",
    "for epoch in range(num_epochs):\n",
    "    for i, (X_batch, y_batch) in enumerate(train_loader):\n",
    "\n",
    "        print(i)\n",
    "        print(X_batch.shape)\n",
    "        print(y_batch.shape)\n",
    "\n",
    "\n",
    "        optimizer.zero_grad()\n",
    "        # change to float\n",
    "        X_batch = X_batch.float().to(device)\n",
    "        \n",
    "        outputs = original_model(X_batch)\n",
    "        sddwe\n",
    "        loss = criterion(outputs, y_batch)\n",
    "        loss.backward()\n",
    "        optimizer.step()\n",
    "        \n",
    "        if (i+1) % 100 == 0:\n",
    "            print(f\"Epoch {epoch+1}/{num_epochs}, Step {i+1}, Loss: {loss.item()}\")\n"
   ]
  },
  {
   "cell_type": "code",
   "execution_count": 11,
   "metadata": {},
   "outputs": [
    {
     "data": {
      "text/plain": [
       "torch.Size([32, 16])"
      ]
     },
     "execution_count": 11,
     "metadata": {},
     "output_type": "execute_result"
    }
   ],
   "source": [
    "outputs.shape"
   ]
  },
  {
   "cell_type": "code",
   "execution_count": 12,
   "metadata": {},
   "outputs": [
    {
     "data": {
      "text/plain": [
       "torch.Size([32])"
      ]
     },
     "execution_count": 12,
     "metadata": {},
     "output_type": "execute_result"
    }
   ],
   "source": [
    "y_batch.shape"
   ]
  },
  {
   "cell_type": "code",
   "execution_count": 13,
   "metadata": {},
   "outputs": [
    {
     "data": {
      "text/plain": [
       "tensor([ 4,  1,  9, 14,  1, 12,  3,  3,  1, 15,  0,  1,  7,  3,  7,  1,  8,  4,\n",
       "        14,  8, 15,  8, 15,  3, 12,  2, 15,  3,  1, 13,  0,  0])"
      ]
     },
     "execution_count": 13,
     "metadata": {},
     "output_type": "execute_result"
    }
   ],
   "source": [
    "y_batch"
   ]
  },
  {
   "cell_type": "code",
   "execution_count": 14,
   "metadata": {},
   "outputs": [
    {
     "ename": "",
     "evalue": "",
     "output_type": "error",
     "traceback": [
      "\u001b[1;31mThe Kernel crashed while executing code in the current cell or a previous cell. \n",
      "\u001b[1;31mPlease review the code in the cell(s) to identify a possible cause of the failure. \n",
      "\u001b[1;31mClick <a href='https://aka.ms/vscodeJupyterKernelCrash'>here</a> for more info. \n",
      "\u001b[1;31mView Jupyter <a href='command:jupyter.viewOutput'>log</a> for further details."
     ]
    }
   ],
   "source": [
    "criterion(outputs, y_batch)"
   ]
  },
  {
   "cell_type": "code",
   "execution_count": null,
   "metadata": {},
   "outputs": [],
   "source": [
    "X_test_tensor = torch.tensor(X_test.values).long()\n",
    "y_test_tensor = torch.tensor(y_test.values).long()\n",
    "\n",
    "X_test_tensor = X_test_tensor.float().to(device)\n",
    "\n",
    "outputs = original_model(X_test_tensor)\n",
    "_, y_pred = torch.max(outputs, 1)\n",
    "\n",
    "y_pred = y_pred.cpu().numpy()\n",
    "\n",
    "\n",
    "\n",
    "# Calculate precision, recall, and F1 score, classification report\n",
    "precision = precision_score(y_test, y_pred, average=\"weighted\")\n",
    "recall = recall_score(y_test, y_pred, average=\"weighted\")\n",
    "f1 = f1_score(y_test, y_pred, average=\"weighted\")\n",
    "\n",
    "print(classification_report(y_test, y_pred))\n",
    "\n",
    "\n",
    "print(f\"Precision: {precision}\")\n",
    "print(f\"Recall: {recall}\")\n",
    "print(f\"F1 Score: {f1}\")"
   ]
  },
  {
   "cell_type": "code",
   "execution_count": null,
   "metadata": {},
   "outputs": [],
   "source": [
    "from synthetic_energy.attacks import CarliniWagnerAttack\n",
    "import torch\n",
    "\n",
    "\n",
    "cw = CarliniWagnerAttack(\n",
    "    device=\"cpu\"\n",
    ")\n",
    "\n",
    "x_text_float = X_test.values.astype(float)\n",
    "y_test_float = y_test.values.astype(float)\n",
    "y_test_dataloader = torch.utils.data.DataLoader(\n",
    "    #Join x and y\n",
    "    list(zip(x_text_float, y_test_float)),\n",
    "    batch_size=1, shuffle=False\n",
    ")\n",
    "\n",
    "adv_examples, all_examples = cw.attack(original_model, y_test_dataloader)"
   ]
  },
  {
   "cell_type": "code",
   "execution_count": null,
   "metadata": {},
   "outputs": [],
   "source": [
    "# see model layers\n",
    "print(original_model)\n",
    "# see model weights\n",
    "print(original_model.state_dict())\n",
    "\n",
    "# see first layer weights\n",
    "print(original_model.fc1.weight.dtype)\n"
   ]
  },
  {
   "cell_type": "code",
   "execution_count": null,
   "metadata": {},
   "outputs": [],
   "source": []
  }
 ],
 "metadata": {
  "kernelspec": {
   "display_name": "phd",
   "language": "python",
   "name": "python3"
  },
  "language_info": {
   "codemirror_mode": {
    "name": "ipython",
    "version": 3
   },
   "file_extension": ".py",
   "mimetype": "text/x-python",
   "name": "python",
   "nbconvert_exporter": "python",
   "pygments_lexer": "ipython3",
   "version": "3.10.15"
  }
 },
 "nbformat": 4,
 "nbformat_minor": 2
}
